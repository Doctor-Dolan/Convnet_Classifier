{
 "cells": [
  {
   "cell_type": "code",
   "execution_count": 186,
   "metadata": {},
   "outputs": [],
   "source": [
    "import torch\n",
    "import torch.nn as nn\n",
    "import torch.nn.functional as F\n",
    "import random\n",
    "import numpy as np\n",
    "import math\n",
    "from Convnet_Functions import *\n",
    "\n",
    "\n",
    "\n",
    "\n",
    "class Net(nn.Module):\n",
    "    def __init__(self):\n",
    "        super().__init__()\n",
    "        self.conv1 = nn.Sequential(\n",
    "                nn.Conv3d(1, 32, 5, stride=2),\n",
    "                nn.ReLU(),\n",
    "                nn.BatchNorm3d(32),\n",
    "                nn.LeakyReLU(),\n",
    "                nn.MaxPool3d(3, stride=2))\n",
    "        self.conv2 = nn.Sequential(\n",
    "                nn.Conv3d(32, 64, 5, stride=2),\n",
    "                nn.ReLU(),\n",
    "                nn.BatchNorm3d(64),\n",
    "                nn.LeakyReLU(),\n",
    "                nn.MaxPool3d(2, stride=2),\n",
    "                nn.Dropout(0.5))\n",
    "        self.fc1 = nn.Sequential(\n",
    "                nn.Linear(64*5*5*6, 64*5*5),\n",
    "                nn.LeakyReLU(),\n",
    "                nn.Dropout(0.4))\n",
    "        self.fc2 = nn.Sequential(\n",
    "                nn.Linear(64*5*5, 64*5),\n",
    "                nn.LeakyReLU(),\n",
    "                nn.Dropout(0.3))\n",
    "        self.fc3 = nn.Sequential(\n",
    "                nn.Linear(64*5, 1))"
   ]
  },
  {
   "cell_type": "code",
   "execution_count": 2,
   "metadata": {},
   "outputs": [],
   "source": [
    "conv1 = nn.Sequential(\n",
    "    nn.Conv3d(1, 32, [5,5,5], stride=[2,2,2]),\n",
    "    nn.ReLU(),\n",
    "    nn.BatchNorm3d(32),\n",
    "    nn.LeakyReLU(),\n",
    "    nn.MaxPool3d(3, stride=2))"
   ]
  },
  {
   "cell_type": "code",
   "execution_count": 3,
   "metadata": {},
   "outputs": [],
   "source": [
    "a =nn.Sequential(\n",
    "                nn.Conv3d(1, 32, 5, stride=2),\n",
    "                nn.ReLU(),\n",
    "                nn.BatchNorm3d(32),\n",
    "                nn.LeakyReLU(),\n",
    "                nn.MaxPool3d(3, stride=2))"
   ]
  },
  {
   "cell_type": "code",
   "execution_count": 1,
   "metadata": {},
   "outputs": [],
   "source": [
    "from network_genetics import *"
   ]
  },
  {
   "cell_type": "code",
   "execution_count": 259,
   "metadata": {},
   "outputs": [],
   "source": [
    "netparams = gene_aggregator()"
   ]
  },
  {
   "cell_type": "code",
   "execution_count": 260,
   "metadata": {},
   "outputs": [],
   "source": [
    "netparams.get_conv_shapes()"
   ]
  },
  {
   "cell_type": "code",
   "execution_count": 261,
   "metadata": {},
   "outputs": [],
   "source": [
    "netparams.get_fc_shapes()"
   ]
  },
  {
   "cell_type": "code",
   "execution_count": 262,
   "metadata": {},
   "outputs": [],
   "source": [
    "a_gene=conv_layer_params()"
   ]
  },
  {
   "cell_type": "code",
   "execution_count": 263,
   "metadata": {},
   "outputs": [
    {
     "data": {
      "text/plain": [
       "{'kernel': array([3, 5, 4]),\n",
       " 'stride': array([1, 2, 3]),\n",
       " 'padding': array([1, 1, 0]),\n",
       " 'bnorm': False,\n",
       " 'pool': True,\n",
       " 'activation1': False,\n",
       " 'activation2': False,\n",
       " 'dropout': True,\n",
       " 'pool_params': {'kernel': array([3, 2, 4]), 'stride': array([3, 3, 1])},\n",
       " 'dropout_frac': 0.3}"
      ]
     },
     "execution_count": 263,
     "metadata": {},
     "output_type": "execute_result"
    }
   ],
   "source": [
    "a_gene.conv_params"
   ]
  },
  {
   "cell_type": "code",
   "execution_count": 5,
   "metadata": {},
   "outputs": [],
   "source": [
    "class network_constructor(gene_aggregator):\n",
    "    \n",
    "    def __init__(self):\n",
    "        super().__init__()\n",
    "        \n",
    "    \n",
    "    def build(self):\n",
    "        \n",
    "        self.built_convs=[]\n",
    "        for i in range(self.num_convs):\n",
    "            self.built_convs.append(self.make_conv_layer(self.convs[i]))\n",
    "        \n",
    "        self.built_fc=[]\n",
    "        for i in range(self.num_fc):\n",
    "            self.built_fc.append(self.make_fc_layer(self.fcs[i]))\n",
    "    \n",
    "    def forward(self,x):\n",
    "        \n",
    "        #Run Convs\n",
    "        for i in range(self.num_convs):\n",
    "            x = self.built_convs[i](x)\n",
    "        \n",
    "        #Flatten and get size\n",
    "        x = torch.flatten(x, start_dim=1)\n",
    "        xsh = x.size(-1)\n",
    "        x = x.view(-1,xsh)\n",
    "        \n",
    "        #Run FC\n",
    "        for i in range(self.num_fc):\n",
    "            x = self.built_fc[i](x)\n",
    "        return x\n",
    "    \n",
    "    def make_conv_layer(self, params):\n",
    "        conv = nn.Sequential()\n",
    "\n",
    "        conv.add_module('conv', nn.Conv3d(params['channels_in'], params['channels_out'], params['kernel'], params['stride'], params['padding']) ) \n",
    "        if params['activation1']:\n",
    "            conv.add_module('activation1', params['activ1_params'])\n",
    "        if params['bnorm']:\n",
    "            conv.add_module('BatchNorm', nn.BatchNorm3d(params['channels_out']) )\n",
    "        if params['activation2']:\n",
    "            conv.add_module('activation2', params['activ2_params'])\n",
    "        if params['pool']:\n",
    "            #I do not know why stride has to be a tuple\n",
    "            conv.add_module('pool', nn.MaxPool3d(params['pool_params']['kernel'], stride=tuple(params['pool_params']['stride'])) )\n",
    "        if params['dropout']:\n",
    "            conv.add_module('dropout', nn.Dropout(params['dropout_frac']) )\n",
    "        return conv\n",
    "    \n",
    "    def make_fc_layer(self, params):\n",
    "        fc = nn.Sequential()\n",
    "        \n",
    "        fc.add_module('linear', nn.Linear(params['features_in'], params['features_out']) )\n",
    "        if params['activation']:\n",
    "            fc.add_module('activation', params['activ_params'])\n",
    "        if params['dropout']:\n",
    "            fc.add_module('dropout', nn.Dropout(params['dropout_frac']) )\n",
    "        return fc\n",
    "    "
   ]
  },
  {
   "cell_type": "code",
   "execution_count": 6,
   "metadata": {},
   "outputs": [],
   "source": [
    "a = network_constructor()"
   ]
  },
  {
   "cell_type": "code",
   "execution_count": 7,
   "metadata": {},
   "outputs": [],
   "source": [
    "a.build()"
   ]
  },
  {
   "cell_type": "code",
   "execution_count": 8,
   "metadata": {},
   "outputs": [
    {
     "ename": "TypeError",
     "evalue": "forward() missing 1 required positional argument: 'x'",
     "output_type": "error",
     "traceback": [
      "\u001b[0;31m---------------------------------------------------------------------------\u001b[0m",
      "\u001b[0;31mTypeError\u001b[0m                                 Traceback (most recent call last)",
      "\u001b[0;32m<ipython-input-8-fafacc626c8a>\u001b[0m in \u001b[0;36m<module>\u001b[0;34m\u001b[0m\n\u001b[0;32m----> 1\u001b[0;31m \u001b[0ma\u001b[0m\u001b[0;34m.\u001b[0m\u001b[0mforward\u001b[0m\u001b[0;34m(\u001b[0m\u001b[0;34m)\u001b[0m\u001b[0;34m\u001b[0m\u001b[0;34m\u001b[0m\u001b[0m\n\u001b[0m",
      "\u001b[0;31mTypeError\u001b[0m: forward() missing 1 required positional argument: 'x'"
     ]
    }
   ],
   "source": [
    "a.forward("
   ]
  },
  {
   "cell_type": "markdown",
   "metadata": {},
   "source": [
    "# One class procedurally generated params\n",
    "\n",
    "#These must be distributable as chromosomes\n",
    "\n",
    "#The network generator class must be able to assemble any combination of chromosomes into a functioning network"
   ]
  },
  {
   "cell_type": "code",
   "execution_count": 17,
   "metadata": {},
   "outputs": [],
   "source": [
    "class layer_params(nn.Module):\n",
    "    \n",
    "    def __init__(self, shape_in = np.array([106,106,120]) ):\n",
    "        super().__init__()\n",
    "\n",
    "        self.shape_in = shape_in\n",
    "        self.num_conv_layers = random.randint(1,3)\n",
    "        self.num_fc_layers = random.randint(1,4)\n",
    "        self.conv_params = self.conv_layer_params()\n",
    "        self.next_shape = self.get_next_shape()\n",
    "    \n",
    "    ##################################################\n",
    "    ########Functions to generate Parameters##########\n",
    "    def conv_layer_params(self, channels_in = 1, channels_out = None):\n",
    "\n",
    "        if not channels_out:\n",
    "            channels_out = random.randint(20,120)\n",
    "        kernel =  np.array([ random.randint(2,5), random.randint(2,5), random.randint(2,5) ])\n",
    "        stride = np.array([ random.randint(1,3), random.randint(1,3), random.randint(1,3) ])\n",
    "        bnorm = random.choice([True,False])\n",
    "        pool = random.choice([True,False])\n",
    "        activation1 = random.choice([True,False])\n",
    "        activation2 = random.choice([True,False])\n",
    "        dropout = random.choice([True, False])\n",
    "\n",
    "        params = { 'channels_in' : channels_in, 'channels_out' : channels_out, 'kernel' : kernel, 'stride' : stride,\n",
    "                  'bnorm' : bnorm, 'pool' : pool, 'activation1' : activation1, 'activation2' : activation2, 'dropout' : dropout}\n",
    "\n",
    "        if bnorm:\n",
    "            params['bnorm_params'] = self.bnorm_layer_params(channels_out)\n",
    "        if pool:\n",
    "            params['pool_params'] = self.pool_layer_params()\n",
    "        if activation1:\n",
    "            params['activ1_params'] = self.activation_params()\n",
    "        if activation2:\n",
    "            params['activ2_params'] = self.activation_params()\n",
    "        if dropout:\n",
    "            params['dropout_frac'] = random.randint(2,5)/10\n",
    "\n",
    "        return params \n",
    "\n",
    "    def bnorm_layer_params(self, channels_out = None):\n",
    "        if not channels_out:\n",
    "            channels_out = random.randint(20,120)\n",
    "        params = { 'channels_out' : channels_out }\n",
    "        return params\n",
    "    \n",
    "    def pool_layer_params(self, kernel = None, stride = None):\n",
    "        if not kernel:\n",
    "            kernel =  np.array([ random.randint(2,5), random.randint(2,5), random.randint(2,5) ])\n",
    "        if not stride:\n",
    "            stride = np.array([ random.randint(1,3), random.randint(1,3), random.randint(1,3) ])\n",
    "\n",
    "        params = { 'kernel' : kernel, 'stride' : stride }\n",
    "        return params\n",
    "    \n",
    "    def activation_params(self):\n",
    "        return random.choice([nn.ReLU(), nn.LeakyReLU()])   \n",
    "    \n",
    "    def get_next_shape(self, shape_in):\n",
    "        \n",
    "        padding=np.array([0])\n",
    "        pool_kernel = self.conv_params['pool_params']['kernel'] if self.conv_params['pool'] else None\n",
    "        pool_stride = self.conv_params['pool_params']['stride'] if self.conv_params['pool'] else None\n",
    "\n",
    "        return Calc_Dims_3d(shape_in, padding, self.conv_params['kernel'], self.conv_params['stride'], self.conv_params['pool'], pool_kernel, pool_stride)"
   ]
  },
  {
   "cell_type": "code",
   "execution_count": null,
   "metadata": {},
   "outputs": [],
   "source": [
    "class network():\n",
    "    def __init__(self):\n",
    "        super().__init__()\n",
    "        \n",
    "    def __init__(self, shape_in = np.array([106,106,120]) ):\n",
    "        super().__init__()\n",
    "\n",
    "        self.shape_in = shape_in\n",
    "        self.num_conv_layers = random.randint(1,3)\n",
    "        self.num_fc_layers = random.randint(1,4)\n",
    "    \n",
    "    def get_next_shape(self, shape_in):\n",
    "        \n",
    "        padding=np.array([0])\n",
    "        pool_kernel = self.conv_params['pool_params']['kernel'] if self.conv_params['pool'] else None\n",
    "        pool_stride = self.conv_params['pool_params']['stride'] if self.conv_params['pool'] else None\n",
    "\n",
    "        return Calc_Dims_3d(shape_in, padding, self.conv_params['kernel'], self.conv_params['stride'], self.conv_params['pool'], pool_kernel, pool_stride)"
   ]
  },
  {
   "cell_type": "code",
   "execution_count": 279,
   "metadata": {},
   "outputs": [
    {
     "ename": "TypeError",
     "evalue": "__init_subclass__() takes no keyword arguments",
     "output_type": "error",
     "traceback": [
      "\u001b[0;31m---------------------------------------------------------------------------\u001b[0m",
      "\u001b[0;31mTypeError\u001b[0m                                 Traceback (most recent call last)",
      "\u001b[0;32m<ipython-input-279-ebfa8caee8f5>\u001b[0m in \u001b[0;36m<module>\u001b[0;34m\u001b[0m\n\u001b[0;32m----> 1\u001b[0;31m \u001b[0;32mclass\u001b[0m \u001b[0mprocedurally_generated_net\u001b[0m\u001b[0;34m(\u001b[0m\u001b[0mnn\u001b[0m\u001b[0;34m.\u001b[0m\u001b[0mModule\u001b[0m\u001b[0;34m,\u001b[0m \u001b[0mshape_in\u001b[0m \u001b[0;34m=\u001b[0m \u001b[0mnp\u001b[0m\u001b[0;34m.\u001b[0m\u001b[0marray\u001b[0m\u001b[0;34m(\u001b[0m\u001b[0;34m[\u001b[0m\u001b[0;36m106\u001b[0m\u001b[0;34m,\u001b[0m\u001b[0;36m106\u001b[0m\u001b[0;34m,\u001b[0m\u001b[0;36m120\u001b[0m\u001b[0;34m]\u001b[0m\u001b[0;34m)\u001b[0m\u001b[0;34m)\u001b[0m\u001b[0;34m:\u001b[0m\u001b[0;34m\u001b[0m\u001b[0;34m\u001b[0m\u001b[0m\n\u001b[0m\u001b[1;32m      2\u001b[0m \u001b[0;34m\u001b[0m\u001b[0m\n\u001b[1;32m      3\u001b[0m     \u001b[0;32mdef\u001b[0m \u001b[0m__init__\u001b[0m\u001b[0;34m(\u001b[0m\u001b[0mself\u001b[0m\u001b[0;34m)\u001b[0m\u001b[0;34m:\u001b[0m\u001b[0;34m\u001b[0m\u001b[0;34m\u001b[0m\u001b[0m\n\u001b[1;32m      4\u001b[0m         \u001b[0msuper\u001b[0m\u001b[0;34m(\u001b[0m\u001b[0;34m)\u001b[0m\u001b[0;34m.\u001b[0m\u001b[0m__init__\u001b[0m\u001b[0;34m(\u001b[0m\u001b[0;34m)\u001b[0m\u001b[0;34m\u001b[0m\u001b[0;34m\u001b[0m\u001b[0m\n\u001b[1;32m      5\u001b[0m \u001b[0;34m\u001b[0m\u001b[0m\n",
      "\u001b[0;31mTypeError\u001b[0m: __init_subclass__() takes no keyword arguments"
     ]
    }
   ],
   "source": [
    "class procedurally_generated_net(nn.Module, shape_in = np.array([106,106,120])):\n",
    "    \n",
    "    def __init__(self):\n",
    "        super().__init__()\n",
    "        \n",
    "    ###############################################\n",
    "    ########Functions to get output shape##########\n",
    "    def get_conv_shape_out(self, params, shape = np.array([106,106,120])):\n",
    "        padding = 0\n",
    "        kernel = params['kernel']\n",
    "        stride = params['stride']\n",
    "        kernel = params['kernel']\n",
    "        if params['pool']:\n",
    "            pool_kernel = params['pool_params']['kernel']\n",
    "            pool_stride = params['pool_params']['stride']\n",
    "        return Calc_Dims_3d(shape, padding, kernel, stride, pool_kernel, pool_stride)\n",
    "    \n",
    "    def get_fc_shape_out(self):\n",
    "        #placement\n",
    "        pass\n",
    "\n",
    "    ##########################################\n",
    "    ########Functions to make layers##########\n",
    "    \n",
    "    def make_conv_layer(params):\n",
    "        conv = nn.Sequential()\n",
    "\n",
    "        conv.add_module('conv', nn.Conv3d(params['channels_in'], params['channels_out'], params['kernel'], params['stride']))\n",
    "        if params['activation1']:\n",
    "            conv.add_module('activation1', params['activ1_params'])\n",
    "        if params['bnorm']:\n",
    "            conv.add_module('BatchNorm', nn.BatchNorm3d(params['bnorm_params']['channels_out']))\n",
    "        if params['activation2']:\n",
    "            conv.add_module('activation2', params['activ2_params'])\n",
    "        if params['pool']:\n",
    "            conv.add_module('pool', params['pool_params']['kernel'], params['pool_params']['stride'])\n",
    "        if params['dropout']:\n",
    "            conv.add_module('dropout', nn.Dropout(params['dropout_frac']))\n",
    "        return conv\n",
    "\n",
    "    "
   ]
  },
  {
   "cell_type": "code",
   "execution_count": 19,
   "metadata": {},
   "outputs": [],
   "source": [
    "c1 = layer_params()"
   ]
  },
  {
   "cell_type": "code",
   "execution_count": 23,
   "metadata": {},
   "outputs": [
    {
     "data": {
      "text/plain": [
       "{'channels_in': 1,\n",
       " 'channels_out': 64,\n",
       " 'kernel': array([4, 5, 4]),\n",
       " 'stride': array([1, 2, 1]),\n",
       " 'bnorm': True,\n",
       " 'pool': False,\n",
       " 'activation1': True,\n",
       " 'activation2': False,\n",
       " 'dropout': True,\n",
       " 'bnorm_params': {'channels_out': 64},\n",
       " 'activ1_params': ReLU(),\n",
       " 'dropout_frac': 0.5}"
      ]
     },
     "execution_count": 23,
     "metadata": {},
     "output_type": "execute_result"
    }
   ],
   "source": [
    "c1.conv_params"
   ]
  },
  {
   "cell_type": "code",
   "execution_count": 14,
   "metadata": {},
   "outputs": [
    {
     "data": {
      "text/plain": [
       "array([53., 35., 41.])"
      ]
     },
     "execution_count": 14,
     "metadata": {},
     "output_type": "execute_result"
    }
   ],
   "source": [
    "padding=np.array([0])\n",
    "\n",
    "pool_kernel = c1.conv_params['pool_params']['kernel'] if c1.conv_params['pool'] else None\n",
    "pool_stride = c1.conv_params['pool_params']['stride'] if c1.conv_params['pool'] else None\n",
    "\n",
    "Calc_Dims_3d(c1.shape_in, padding, c1.conv_params['kernel'], c1.conv_params['stride'], c1.conv_params['pool'], pool_kernel, pool_stride)"
   ]
  },
  {
   "cell_type": "code",
   "execution_count": null,
   "metadata": {},
   "outputs": [],
   "source": []
  },
  {
   "cell_type": "code",
   "execution_count": 63,
   "metadata": {},
   "outputs": [],
   "source": [
    "pool_kernel = c1.conv_params['pool_params']['pool_kernel'] if c1.conv_params['pool'] else None"
   ]
  },
  {
   "cell_type": "code",
   "execution_count": 13,
   "metadata": {},
   "outputs": [
    {
     "data": {
      "text/plain": [
       "{'kernel': array([3, 5, 5]), 'stride': array([2, 1, 2])}"
      ]
     },
     "execution_count": 13,
     "metadata": {},
     "output_type": "execute_result"
    }
   ],
   "source": [
    "c1.conv_params['pool_params']"
   ]
  },
  {
   "cell_type": "code",
   "execution_count": 18,
   "metadata": {},
   "outputs": [
    {
     "ename": "NameError",
     "evalue": "name 'make_conv_layer' is not defined",
     "output_type": "error",
     "traceback": [
      "\u001b[0;31m---------------------------------------------------------------------------\u001b[0m",
      "\u001b[0;31mNameError\u001b[0m                                 Traceback (most recent call last)",
      "\u001b[0;32m<ipython-input-18-655383b8a76a>\u001b[0m in \u001b[0;36m<module>\u001b[0;34m\u001b[0m\n\u001b[0;32m----> 1\u001b[0;31m \u001b[0mcl1\u001b[0m \u001b[0;34m=\u001b[0m \u001b[0mmake_conv_layer\u001b[0m\u001b[0;34m(\u001b[0m\u001b[0mc1\u001b[0m\u001b[0;34m.\u001b[0m\u001b[0mconv_params\u001b[0m\u001b[0;34m)\u001b[0m\u001b[0;34m\u001b[0m\u001b[0;34m\u001b[0m\u001b[0m\n\u001b[0m",
      "\u001b[0;31mNameError\u001b[0m: name 'make_conv_layer' is not defined"
     ]
    }
   ],
   "source": [
    "cl1 = make_conv_layer(c1.conv_params)"
   ]
  },
  {
   "cell_type": "code",
   "execution_count": 171,
   "metadata": {},
   "outputs": [
    {
     "data": {
      "text/plain": [
       "Sequential(\n",
       "  (conv): Conv3d(1, 37, kernel_size=[4 3 3], stride=[2 2 3])\n",
       "  (activation1): LeakyReLU(negative_slope=0.01)\n",
       "  (activation2): ReLU()\n",
       "  (dropout): Dropout(p=0.3, inplace=False)\n",
       ")"
      ]
     },
     "execution_count": 171,
     "metadata": {},
     "output_type": "execute_result"
    }
   ],
   "source": [
    "cl1"
   ]
  },
  {
   "cell_type": "code",
   "execution_count": 148,
   "metadata": {},
   "outputs": [],
   "source": [
    "c1 = conv_layer_params()"
   ]
  },
  {
   "cell_type": "code",
   "execution_count": 149,
   "metadata": {},
   "outputs": [
    {
     "data": {
      "text/plain": [
       "{'channels_in': 1,\n",
       " 'channels_out': 32,\n",
       " 'kernel': array([5, 4, 2]),\n",
       " 'stride': array([1, 2, 3]),\n",
       " 'bnorm': False,\n",
       " 'pool': True,\n",
       " 'activation1': False,\n",
       " 'activation2': True,\n",
       " 'pool_params': {'kernel': array([2, 5, 3]), 'stride': array([3, 3, 3])},\n",
       " 'activ2_params': ReLU(),\n",
       " 'dropout_frac': 0.5}"
      ]
     },
     "execution_count": 149,
     "metadata": {},
     "output_type": "execute_result"
    }
   ],
   "source": [
    "c1"
   ]
  },
  {
   "cell_type": "code",
   "execution_count": null,
   "metadata": {},
   "outputs": [],
   "source": [
    "shape_in = np.array([106,106,120])"
   ]
  },
  {
   "cell_type": "code",
   "execution_count": 53,
   "metadata": {},
   "outputs": [],
   "source": [
    "    a = nn.Sequential()\n",
    "    \n",
    "    a.add_module( 'conv', nn.Conv3d(1,32,5,stride=2))\n",
    "    \n",
    "    if activation:\n",
    "        a.add_module( 'activation', nn.ReLU())"
   ]
  },
  {
   "cell_type": "code",
   "execution_count": 54,
   "metadata": {},
   "outputs": [
    {
     "data": {
      "text/plain": [
       "Sequential(\n",
       "  (conv): Conv3d(1, 32, kernel_size=(5, 5, 5), stride=(2, 2, 2))\n",
       ")"
      ]
     },
     "execution_count": 54,
     "metadata": {},
     "output_type": "execute_result"
    }
   ],
   "source": [
    "a"
   ]
  },
  {
   "cell_type": "code",
   "execution_count": 47,
   "metadata": {},
   "outputs": [],
   "source": [
    "        b = nn.Sequential(\n",
    "                nn.Conv3d(1, 32, 5, stride=2),\n",
    "                nn.ReLU(),\n",
    "                nn.BatchNorm3d(32),\n",
    "                nn.LeakyReLU(),\n",
    "                nn.MaxPool3d(3, stride=2))"
   ]
  },
  {
   "cell_type": "code",
   "execution_count": 49,
   "metadata": {},
   "outputs": [
    {
     "ename": "TypeError",
     "evalue": "module name should be a string. Got int",
     "output_type": "error",
     "traceback": [
      "\u001b[0;31m---------------------------------------------------------------------------\u001b[0m",
      "\u001b[0;31mTypeError\u001b[0m                                 Traceback (most recent call last)",
      "\u001b[0;32m<ipython-input-49-0f9c09be748a>\u001b[0m in \u001b[0;36m<module>\u001b[0;34m\u001b[0m\n\u001b[1;32m      1\u001b[0m \u001b[0ma\u001b[0m \u001b[0;34m=\u001b[0m \u001b[0mnn\u001b[0m\u001b[0;34m.\u001b[0m\u001b[0mSequential\u001b[0m\u001b[0;34m(\u001b[0m\u001b[0;34m)\u001b[0m\u001b[0;34m\u001b[0m\u001b[0;34m\u001b[0m\u001b[0m\n\u001b[0;32m----> 2\u001b[0;31m \u001b[0ma\u001b[0m\u001b[0;34m.\u001b[0m\u001b[0madd_module\u001b[0m\u001b[0;34m(\u001b[0m \u001b[0;36m0\u001b[0m\u001b[0;34m,\u001b[0m\u001b[0mnn\u001b[0m\u001b[0;34m.\u001b[0m\u001b[0mConv3d\u001b[0m\u001b[0;34m(\u001b[0m\u001b[0;36m1\u001b[0m\u001b[0;34m,\u001b[0m\u001b[0;36m32\u001b[0m\u001b[0;34m,\u001b[0m\u001b[0;36m5\u001b[0m\u001b[0;34m,\u001b[0m\u001b[0mstride\u001b[0m\u001b[0;34m=\u001b[0m\u001b[0;36m2\u001b[0m\u001b[0;34m)\u001b[0m\u001b[0;34m)\u001b[0m\u001b[0;34m\u001b[0m\u001b[0;34m\u001b[0m\u001b[0m\n\u001b[0m\u001b[1;32m      3\u001b[0m \u001b[0ma\u001b[0m\u001b[0;34m.\u001b[0m\u001b[0madd_module\u001b[0m\u001b[0;34m(\u001b[0m \u001b[0;34m'relu1'\u001b[0m\u001b[0;34m,\u001b[0m \u001b[0mnn\u001b[0m\u001b[0;34m.\u001b[0m\u001b[0mReLU\u001b[0m\u001b[0;34m(\u001b[0m\u001b[0;34m)\u001b[0m\u001b[0;34m)\u001b[0m\u001b[0;34m\u001b[0m\u001b[0;34m\u001b[0m\u001b[0m\n",
      "\u001b[0;32m/opt/anaconda3/lib/python3.7/site-packages/torch/nn/modules/module.py\u001b[0m in \u001b[0;36madd_module\u001b[0;34m(self, name, module)\u001b[0m\n\u001b[1;32m    190\u001b[0m         \u001b[0;32melif\u001b[0m \u001b[0;32mnot\u001b[0m \u001b[0misinstance\u001b[0m\u001b[0;34m(\u001b[0m\u001b[0mname\u001b[0m\u001b[0;34m,\u001b[0m \u001b[0mtorch\u001b[0m\u001b[0;34m.\u001b[0m\u001b[0m_six\u001b[0m\u001b[0;34m.\u001b[0m\u001b[0mstring_classes\u001b[0m\u001b[0;34m)\u001b[0m\u001b[0;34m:\u001b[0m\u001b[0;34m\u001b[0m\u001b[0;34m\u001b[0m\u001b[0m\n\u001b[1;32m    191\u001b[0m             raise TypeError(\"module name should be a string. Got {}\".format(\n\u001b[0;32m--> 192\u001b[0;31m                 torch.typename(name)))\n\u001b[0m\u001b[1;32m    193\u001b[0m         \u001b[0;32melif\u001b[0m \u001b[0mhasattr\u001b[0m\u001b[0;34m(\u001b[0m\u001b[0mself\u001b[0m\u001b[0;34m,\u001b[0m \u001b[0mname\u001b[0m\u001b[0;34m)\u001b[0m \u001b[0;32mand\u001b[0m \u001b[0mname\u001b[0m \u001b[0;32mnot\u001b[0m \u001b[0;32min\u001b[0m \u001b[0mself\u001b[0m\u001b[0;34m.\u001b[0m\u001b[0m_modules\u001b[0m\u001b[0;34m:\u001b[0m\u001b[0;34m\u001b[0m\u001b[0;34m\u001b[0m\u001b[0m\n\u001b[1;32m    194\u001b[0m             \u001b[0;32mraise\u001b[0m \u001b[0mKeyError\u001b[0m\u001b[0;34m(\u001b[0m\u001b[0;34m\"attribute '{}' already exists\"\u001b[0m\u001b[0;34m.\u001b[0m\u001b[0mformat\u001b[0m\u001b[0;34m(\u001b[0m\u001b[0mname\u001b[0m\u001b[0;34m)\u001b[0m\u001b[0;34m)\u001b[0m\u001b[0;34m\u001b[0m\u001b[0;34m\u001b[0m\u001b[0m\n",
      "\u001b[0;31mTypeError\u001b[0m: module name should be a string. Got int"
     ]
    }
   ],
   "source": [
    "a = nn.Sequential()\n",
    "a.add_module( 'conv' , nn.Conv3d(1,32,5,stride=2))\n",
    "a.add_module( 'relu1', nn.ReLU())\n"
   ]
  },
  {
   "cell_type": "code",
   "execution_count": 25,
   "metadata": {},
   "outputs": [
    {
     "ename": "TypeError",
     "evalue": "unsupported operand type(s) for *: 'ReLU' and 'bool'",
     "output_type": "error",
     "traceback": [
      "\u001b[0;31m---------------------------------------------------------------------------\u001b[0m",
      "\u001b[0;31mTypeError\u001b[0m                                 Traceback (most recent call last)",
      "\u001b[0;32m<ipython-input-25-5504ede9f9f9>\u001b[0m in \u001b[0;36m<module>\u001b[0;34m\u001b[0m\n\u001b[0;32m----> 1\u001b[0;31m \u001b[0mb\u001b[0m \u001b[0;34m=\u001b[0m \u001b[0mmake_conv_layer\u001b[0m\u001b[0;34m(\u001b[0m\u001b[0;34m)\u001b[0m\u001b[0;34m\u001b[0m\u001b[0;34m\u001b[0m\u001b[0m\n\u001b[0m",
      "\u001b[0;32m<ipython-input-21-90dd20261f5b>\u001b[0m in \u001b[0;36mmake_conv_layer\u001b[0;34m()\u001b[0m\n\u001b[1;32m     10\u001b[0m     a = nn.Sequential(\n\u001b[1;32m     11\u001b[0m                 \u001b[0mnn\u001b[0m\u001b[0;34m.\u001b[0m\u001b[0mConv3d\u001b[0m\u001b[0;34m(\u001b[0m\u001b[0;36m1\u001b[0m\u001b[0;34m,\u001b[0m \u001b[0;36m32\u001b[0m\u001b[0;34m,\u001b[0m \u001b[0;36m5\u001b[0m\u001b[0;34m,\u001b[0m \u001b[0mstride\u001b[0m\u001b[0;34m=\u001b[0m\u001b[0;36m2\u001b[0m\u001b[0;34m)\u001b[0m\u001b[0;34m,\u001b[0m\u001b[0;34m\u001b[0m\u001b[0;34m\u001b[0m\u001b[0m\n\u001b[0;32m---> 12\u001b[0;31m                 \u001b[0mnn\u001b[0m\u001b[0;34m.\u001b[0m\u001b[0mReLU\u001b[0m\u001b[0;34m(\u001b[0m\u001b[0;34m)\u001b[0m \u001b[0;34m*\u001b[0m \u001b[0mactivation\u001b[0m\u001b[0;34m,\u001b[0m\u001b[0;34m\u001b[0m\u001b[0;34m\u001b[0m\u001b[0m\n\u001b[0m\u001b[1;32m     13\u001b[0m                 \u001b[0mnn\u001b[0m\u001b[0;34m.\u001b[0m\u001b[0mBatchNorm3d\u001b[0m\u001b[0;34m(\u001b[0m\u001b[0;36m32\u001b[0m\u001b[0;34m)\u001b[0m \u001b[0;34m*\u001b[0m \u001b[0mbnorm\u001b[0m\u001b[0;34m,\u001b[0m\u001b[0;34m\u001b[0m\u001b[0;34m\u001b[0m\u001b[0m\n\u001b[1;32m     14\u001b[0m                 \u001b[0mnn\u001b[0m\u001b[0;34m.\u001b[0m\u001b[0mLeakyReLU\u001b[0m\u001b[0;34m(\u001b[0m\u001b[0;34m)\u001b[0m \u001b[0;34m*\u001b[0m \u001b[0mactivation2\u001b[0m\u001b[0;34m,\u001b[0m\u001b[0;34m\u001b[0m\u001b[0;34m\u001b[0m\u001b[0m\n",
      "\u001b[0;31mTypeError\u001b[0m: unsupported operand type(s) for *: 'ReLU' and 'bool'"
     ]
    }
   ],
   "source": [
    "b = make_conv_layer()"
   ]
  },
  {
   "cell_type": "code",
   "execution_count": 3,
   "metadata": {},
   "outputs": [],
   "source": [
    "layer_params = { nn.Conv3d : 1, nn.ReLU() : 1, nn.BatchNorm3d : 1, nn.LeakyReLU() : 1, nn.MaxPool3d : 1}"
   ]
  },
  {
   "cell_type": "code",
   "execution_count": 5,
   "metadata": {},
   "outputs": [
    {
     "ename": "TypeError",
     "evalue": "'int' object is not callable",
     "output_type": "error",
     "traceback": [
      "\u001b[0;31m---------------------------------------------------------------------------\u001b[0m",
      "\u001b[0;31mTypeError\u001b[0m                                 Traceback (most recent call last)",
      "\u001b[0;32m<ipython-input-5-461e0b103507>\u001b[0m in \u001b[0;36m<module>\u001b[0;34m\u001b[0m\n\u001b[1;32m      1\u001b[0m layer = nn.Sequential(\n\u001b[0;32m----> 2\u001b[0;31m     \u001b[0mlayer_params\u001b[0m\u001b[0;34m[\u001b[0m\u001b[0mnn\u001b[0m\u001b[0;34m.\u001b[0m\u001b[0mConv3d\u001b[0m\u001b[0;34m]\u001b[0m\u001b[0;34m(\u001b[0m\u001b[0;36m1\u001b[0m\u001b[0;34m,\u001b[0m\u001b[0;36m32\u001b[0m\u001b[0;34m,\u001b[0m\u001b[0;36m5\u001b[0m\u001b[0;34m,\u001b[0m\u001b[0mstride\u001b[0m\u001b[0;34m=\u001b[0m\u001b[0;36m2\u001b[0m\u001b[0;34m)\u001b[0m\u001b[0;34m\u001b[0m\u001b[0;34m\u001b[0m\u001b[0m\n\u001b[0m\u001b[1;32m      3\u001b[0m     )\n",
      "\u001b[0;31mTypeError\u001b[0m: 'int' object is not callable"
     ]
    }
   ],
   "source": [
    "\n",
    "layer = nn.Sequential(\n",
    "    layer_params[nn.Conv3d](1,32,5,stride=2)\n",
    "    )"
   ]
  },
  {
   "cell_type": "code",
   "execution_count": 6,
   "metadata": {},
   "outputs": [
    {
     "data": {
      "text/plain": [
       "1"
      ]
     },
     "execution_count": 6,
     "metadata": {},
     "output_type": "execute_result"
    }
   ],
   "source": [
    "layer_params[nn.Conv3d]"
   ]
  },
  {
   "cell_type": "code",
   "execution_count": null,
   "metadata": {},
   "outputs": [],
   "source": []
  }
 ],
 "metadata": {
  "kernelspec": {
   "display_name": "Python 3",
   "language": "python",
   "name": "python3"
  },
  "language_info": {
   "codemirror_mode": {
    "name": "ipython",
    "version": 3
   },
   "file_extension": ".py",
   "mimetype": "text/x-python",
   "name": "python",
   "nbconvert_exporter": "python",
   "pygments_lexer": "ipython3",
   "version": "3.7.4"
  }
 },
 "nbformat": 4,
 "nbformat_minor": 4
}
