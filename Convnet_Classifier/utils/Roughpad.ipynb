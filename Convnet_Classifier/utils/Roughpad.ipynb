{
 "cells": [
  {
   "cell_type": "code",
   "execution_count": null,
   "metadata": {},
   "outputs": [],
   "source": [
    "shape=np.array([106,106,120])\n",
    "kernel=np.array([5,5,5])\n",
    "padding=1\n",
    "stride=np.array([2,2,2])\n",
    "Pool_kernel=np.array([3,3,3])\n",
    "Pool_stride=np.array([2,2,2])\n",
    "\n",
    "outshape = CF.Calc_Dims_3d(shape, padding, kernel, stride, Pool_kernel, Pool_stride)\n",
    "outshape_2 = CF.Calc_Dims_3d(outshape, padding, kernel, stride, [2,2,2], Pool_stride)"
   ]
  },
  {
   "cell_type": "code",
   "execution_count": null,
   "metadata": {},
   "outputs": [],
   "source": [
    "outshape"
   ]
  },
  {
   "cell_type": "code",
   "execution_count": null,
   "metadata": {},
   "outputs": [],
   "source": [
    "CF.Calc_Dims_3d(outshape, 1, [1,1,1], [1,1,1], [1,1,1], [1,1,1])"
   ]
  }
 ],
 "metadata": {
  "kernelspec": {
   "display_name": "Python 3",
   "language": "python",
   "name": "python3"
  },
  "language_info": {
   "codemirror_mode": {
    "name": "ipython",
    "version": 3
   },
   "file_extension": ".py",
   "mimetype": "text/x-python",
   "name": "python",
   "nbconvert_exporter": "python",
   "pygments_lexer": "ipython3",
   "version": "3.7.4"
  }
 },
 "nbformat": 4,
 "nbformat_minor": 4
}
