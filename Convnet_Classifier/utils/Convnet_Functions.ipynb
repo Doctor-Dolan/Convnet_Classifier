{
 "cells": [
  {
   "cell_type": "code",
   "execution_count": null,
   "metadata": {},
   "outputs": [],
   "source": [
    "import numpy as np\n",
    "\n",
    "def Calc_Dims_3d(shape, padding, kernel, stride, Pool_kernel, Pool_stride):\n",
    "    convshape = np.round((shape + 2*padding - kernel) / stride, 0)\n",
    "    poolshape = np.round((convshape - Pool_kernel) / Pool_stride, 0)\n",
    "    \n",
    "    return poolshape"
   ]
  }
 ],
 "metadata": {
  "kernelspec": {
   "display_name": "Python 3",
   "language": "python",
   "name": "python3"
  },
  "language_info": {
   "codemirror_mode": {
    "name": "ipython",
    "version": 3
   },
   "file_extension": ".py",
   "mimetype": "text/x-python",
   "name": "python",
   "nbconvert_exporter": "python",
   "pygments_lexer": "ipython3",
   "version": "3.7.4"
  }
 },
 "nbformat": 4,
 "nbformat_minor": 4
}
