{
 "cells": [
  {
   "cell_type": "code",
   "execution_count": 1,
   "metadata": {},
   "outputs": [],
   "source": [
    "from utils.network_genetics import *"
   ]
  },
  {
   "cell_type": "code",
   "execution_count": 2,
   "metadata": {},
   "outputs": [],
   "source": [
    "Net = network_constructor()"
   ]
  },
  {
   "cell_type": "code",
   "execution_count": 5,
   "metadata": {},
   "outputs": [],
   "source": [
    "Net.build()"
   ]
  },
  {
   "cell_type": "markdown",
   "metadata": {},
   "source": [
    "## Get Data"
   ]
  },
  {
   "cell_type": "code",
   "execution_count": null,
   "metadata": {},
   "outputs": [],
   "source": [
    "import os\n",
    "import numpy as np\n",
    "import torch\n",
    "import matplotlib.pyplot as plt\n",
    "import utils.Convnet_Functions as CF\n",
    "\n",
    "data_dir='/mnt/storage/home/robert/Convnet_Classifier/Convnet_Classifier/data/Ventricles_Regression/Trains'\n",
    "test_dir='/mnt/storage/home/robert/Convnet_Classifier/Convnet_Classifier/data/Ventricles_Regression/Tests'\n",
    "\n",
    "train_data=[]                               #images\n",
    "train_labels=[]                             #labels\n",
    "test_data=[]\n",
    "test_labels=[]\n",
    "\n",
    "for file in os.listdir(data_dir):\n",
    "    data=np.load(os.path.join(data_dir,file), allow_pickle=True)\n",
    "    train_data.append((data[0][0]))\n",
    "    train_labels.append(data[0][1])\n",
    "\n",
    "train_data = torch.tensor(train_data)\n",
    "train_labels = torch.tensor(train_labels)\n",
    "train_data = train_data.float()\n",
    "\n",
    "for file in os.listdir(test_dir):\n",
    "    data=np.load(os.path.join(test_dir,file), allow_pickle=True)\n",
    "    test_data.append((data[0][0]))\n",
    "    test_labels.append(data[0][1])\n",
    "\n",
    "test_data = torch.tensor(test_data)\n",
    "test_labels = torch.tensor(test_labels)\n",
    "test_data = test_data.float()\n",
    "\n",
    "train_sh = train_data.size()\n",
    "test_sh = test_data.size()"
   ]
  },
  {
   "cell_type": "code",
   "execution_count": null,
   "metadata": {},
   "outputs": [],
   "source": [
    "plt.figure(figsize=(10,10))\n",
    "for i in range(25):\n",
    "    plt.subplot(5,5,i+1)\n",
    "    plt.xticks([])\n",
    "    plt.yticks([])\n",
    "    plt.grid(False)\n",
    "    plt.imshow(train_data[i,:,:,60], cmap=plt.cm.binary)\n",
    "    plt.xlabel([float(train_labels[i][0])])\n",
    "plt.show()"
   ]
  },
  {
   "cell_type": "markdown",
   "metadata": {},
   "source": [
    "## For now we hardcode certain things"
   ]
  },
  {
   "cell_type": "code",
   "execution_count": null,
   "metadata": {},
   "outputs": [],
   "source": [
    "loss_function = nn.MSELoss()"
   ]
  },
  {
   "cell_type": "code",
   "execution_count": null,
   "metadata": {},
   "outputs": [],
   "source": [
    "if torch.cuda.is_available():\n",
    "    device = torch.device(\"cuda:0\")\n",
    "else:\n",
    "    device = torch.device(\"cpu\")"
   ]
  },
  {
   "cell_type": "markdown",
   "metadata": {},
   "source": [
    "## Define network functions"
   ]
  },
  {
   "cell_type": "code",
   "execution_count": null,
   "metadata": {},
   "outputs": [],
   "source": [
    "def fwd_pass(x, y, train=False):\n",
    "    if train:\n",
    "        net.zero_grad()\n",
    "    outputs = net(x)\n",
    "    matches = [torch.argmax(i) == torch.argmax(j) for i,j in zip(outputs, y)]\n",
    "    acc = matches.count(True)/len(matches)\n",
    "    loss = loss_function(outputs, y)\n",
    "    \n",
    "    if train:\n",
    "        loss.backward()\n",
    "        optimizer.step()\n",
    "    return acc, loss"
   ]
  },
  {
   "cell_type": "code",
   "execution_count": null,
   "metadata": {},
   "outputs": [],
   "source": [
    "def test(size=1):\n",
    "    random_start = np.random.randint(len(test_data) - size)\n",
    "    #Take a random selection of test data\n",
    "    X, Y = test_data[random_start:random_start+size], test_labels[random_start:random_start+size].float()\n",
    "    val_acc, val_loss = fwd_pass(X.view(size,-1,106,106,120).to(device),Y.to(device))\n",
    "    \n",
    "    return val_acc, val_loss\n",
    "\n",
    "val_acc, val_loss = test(size=1)\n",
    "print(val_acc, val_loss)"
   ]
  },
  {
   "cell_type": "code",
   "execution_count": null,
   "metadata": {},
   "outputs": [],
   "source": [
    "import time\n",
    "import torch.optim as optim\n",
    "from tqdm import tqdm\n",
    "\n",
    "MODEL_NAME = f\"Diffusion-Regressor-{int(time.time())}\"\n",
    "optimizer = optim.Adam(net.parameters(), lr=0.0000001)\n",
    "loss_function = nn.MSELoss()\n",
    "\n",
    "print(MODEL_NAME)\n",
    "\n",
    "def train(epochs):\n",
    "    BATCH_SIZE = 10\n",
    "    EPOCHS = epochs\n",
    "    \n",
    "    with open(\"model.log\", \"a\") as f:\n",
    "        for epoch in range(epochs):\n",
    "            for i in tqdm(range(0,len(train_data), BATCH_SIZE)):\n",
    "                feed = min(BATCH_SIZE, len(train_data)-i)\n",
    "                batch_data = train_data[i:i+feed].view(feed,1,106,106,120).to(device)\n",
    "                batch_labels = train_labels[i:i+feed].float().to(device)\n",
    "                \n",
    "                acc, loss = fwd_pass(batch_data, batch_labels, train=True)\n",
    "                if i % 50 == 0:\n",
    "                    val_acc, val_loss = test(size=feed)\n",
    "                    f.write(f\"{MODEL_NAME},{round(time.time(),3)}, {round(float(acc),2)}, {round(float(loss),4)}, {round(float(val_acc),2)}, {round(float(val_loss),4)}\\n\")"
   ]
  },
  {
   "cell_type": "code",
   "execution_count": null,
   "metadata": {},
   "outputs": [],
   "source": [
    "train(100)"
   ]
  }
 ],
 "metadata": {
  "kernelspec": {
   "display_name": "Python 3",
   "language": "python",
   "name": "python3"
  },
  "language_info": {
   "codemirror_mode": {
    "name": "ipython",
    "version": 3
   },
   "file_extension": ".py",
   "mimetype": "text/x-python",
   "name": "python",
   "nbconvert_exporter": "python",
   "pygments_lexer": "ipython3",
   "version": "3.7.4"
  }
 },
 "nbformat": 4,
 "nbformat_minor": 4
}
